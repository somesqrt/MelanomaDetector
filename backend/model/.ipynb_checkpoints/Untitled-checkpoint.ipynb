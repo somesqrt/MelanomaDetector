{
 "cells": [
  {
   "cell_type": "code",
   "execution_count": 1,
   "id": "a185ce93-9b0b-4411-b4a9-1588490e6b5c",
   "metadata": {
    "scrolled": true,
    "tags": []
   },
   "outputs": [
    {
     "name": "stdout",
     "output_type": "stream",
     "text": [
      "43141\n",
      "10014\n"
     ]
    }
   ],
   "source": [
    "base_url = \"D:/downloads\"\n",
    "image_path = \"/jpeg/train\"\n",
    "image_path1 = \"/HAM10000_images_part_1\"\n",
    "import os\n",
    "import pandas as pd\n",
    "print(len(os.listdir(base_url + image_path)))\n",
    "print(len(os.listdir(base_url + image_path1)))"
   ]
  },
  {
   "cell_type": "code",
   "execution_count": 2,
   "id": "9f99965c-f1a0-49b6-993f-9990f710215a",
   "metadata": {},
   "outputs": [
    {
     "name": "stdout",
     "output_type": "stream",
     "text": [
      "[['ISIC_2637011' '0']\n",
      " ['ISIC_0015719' '0']\n",
      " ['ISIC_0052212' '0']\n",
      " ...\n",
      " ['ISIC_9999515' '0']\n",
      " ['ISIC_9999666' '0']\n",
      " ['ISIC_9999806' '0']]\n",
      "[['ISIC_0027419' 'bkl']\n",
      " ['ISIC_0025030' 'bkl']\n",
      " ['ISIC_0026769' 'bkl']\n",
      " ...\n",
      " ['ISIC_0033536' 'akiec']\n",
      " ['ISIC_0032854' 'akiec']\n",
      " ['ISIC_0032258' 'mel']]\n"
     ]
    }
   ],
   "source": [
    "import csv\n",
    "import numpy as np\n",
    "with open(base_url + '/train.csv') as file_name:\n",
    "    file_read = csv.reader(file_name)\n",
    "    array = list(file_read)\n",
    "    np_arr = np.array(array)\n",
    "print(np_arr[1:,[0,-1]])\n",
    "\n",
    "with open(base_url + '/HAM10000_metadata.csv') as file_name:\n",
    "    file_read = csv.reader(file_name)\n",
    "    array = list(file_read)\n",
    "    np_arr = np.array(array)\n",
    "print(np_arr[1:,[1,2]])\n"
   ]
  },
  {
   "cell_type": "code",
   "execution_count": 3,
   "id": "913ee273",
   "metadata": {},
   "outputs": [
    {
     "name": "stdout",
     "output_type": "stream",
     "text": [
      "[['ISIC_0030623' 1]\n",
      " ['ISIC_0027190' 1]\n",
      " ['ISIC_0031023' 1]\n",
      " ...\n",
      " ['ISIC_0032936' 1]\n",
      " ['ISIC_0033232' 1]\n",
      " ['ISIC_0032258' 1]] \n",
      "\n",
      "[['ISIC_0024693' 0]\n",
      " ['ISIC_0032212' 0]\n",
      " ['ISIC_0025775' 0]\n",
      " ...\n",
      " ['ISIC_0032221' 0]\n",
      " ['ISIC_0030693' 0]\n",
      " ['ISIC_0031649' 0]]\n"
     ]
    }
   ],
   "source": [
    "#zmenime typ hodnoty s druheho datasetu na typ s prveho datasetu aby sme mohli potom dva datasety spojit\n",
    "train1 = pd.read_csv(base_url + '/HAM10000_metadata.csv')\n",
    "data1 = train1\n",
    "\n",
    "malign_data1 = data1[data1['dx']=='mel'].to_numpy()[1:,[1,2]]\n",
    "benign_data1 = data1[data1['dx']=='nv'].to_numpy()[1:,[1,2]]\n",
    "#print(malign_data)\n",
    "#print(benign_data)\n",
    "#print(malign_data[1:,1])\n",
    "#print(malign_data)\n",
    "#print(malign_data[0][1])\n",
    "malign_data1[0][1] = 1\n",
    "benign_data1[0][1] = 0\n",
    "for cislo in range(len(malign_data1[1:,1])):\n",
    "    if malign_data1[1:,1][cislo-1] == 'mel':\n",
    "        malign_data1[1:,1][cislo-1] = 1\n",
    "\n",
    "for cislo in range(len(benign_data1[1:,1])):\n",
    "    if benign_data1[1:,1][cislo] == 'nv':\n",
    "        benign_data1[1:,1][cislo] = 0\n",
    "\n",
    "print(malign_data1, '\\n')\n",
    "print(benign_data1)"
   ]
  },
  {
   "cell_type": "code",
   "execution_count": 4,
   "id": "224f74c0",
   "metadata": {},
   "outputs": [
    {
     "name": "stdout",
     "output_type": "stream",
     "text": [
      "1166\n",
      "1166\n",
      "[['ISIC_5772938' 0]\n",
      " ['ISIC_8429889' 0]\n",
      " ['ISIC_2575480' 0]\n",
      " ...\n",
      " ['ISIC_0032221' 0]\n",
      " ['ISIC_0030693' 0]\n",
      " ['ISIC_0031649' 0]]\n",
      "[['ISIC_0188432' 1]\n",
      " ['ISIC_0207268' 1]\n",
      " ['ISIC_0232101' 1]\n",
      " ...\n",
      " ['ISIC_0032936' 1]\n",
      " ['ISIC_0033232' 1]\n",
      " ['ISIC_0032258' 1]]\n",
      "1695\n",
      "1695\n"
     ]
    }
   ],
   "source": [
    "train = pd.read_csv(base_url + '/train.csv')\n",
    "data = train\n",
    "malign_data = data[data['target']==1].to_numpy()[1:,[0,-1]]\n",
    "benign_data = data[data['target']==0].to_numpy()\n",
    "idx_x = np.random.choice(len(benign_data),int(len(benign_data)),replace=False)\n",
    "benign_data = np.array(benign_data[idx_x])\n",
    "\n",
    "benign_data = benign_data[:len(malign_data)+1]\n",
    "benign_data = benign_data[1:,[0,-1]]\n",
    "print(benign_data.size)\n",
    "print(malign_data.size)\n",
    "\n",
    "benign_data = np.concatenate([benign_data, benign_data1])\n",
    "malign_data = np.concatenate([malign_data, malign_data1])\n",
    "\n",
    "print(benign_data)\n",
    "print(malign_data)\n",
    "\n",
    "benign_data = benign_data[:1695]\n",
    "#malign_data = malign_data[:1500]\n",
    "\n",
    "print(len(benign_data))\n",
    "print(len(malign_data))\n",
    "\n",
    "\n",
    "\n",
    "#benign_data = benign_data.reshape(583 , 2) + benign_data1.reshape(6704, 2)\n",
    "#malign_data = malign_data + malign_data1\n",
    "\n",
    "#print(benign_data)\n",
    "#print(malign_data)\n",
    "#print(len(benign_data))\n",
    "#print(len(malign_data))\n"
   ]
  },
  {
   "cell_type": "code",
   "execution_count": 5,
   "id": "826b330d",
   "metadata": {},
   "outputs": [
    {
     "name": "stdout",
     "output_type": "stream",
     "text": [
      "[['ISIC_5772938' 0]\n",
      " ['ISIC_8429889' 0]\n",
      " ['ISIC_2575480' 0]\n",
      " ...\n",
      " ['ISIC_0032936' 1]\n",
      " ['ISIC_0033232' 1]\n",
      " ['ISIC_0032258' 1]]\n"
     ]
    }
   ],
   "source": [
    "train_df_1= np.concatenate([benign_data, malign_data])\n",
    "print(train_df_1)"
   ]
  },
  {
   "cell_type": "code",
   "execution_count": 10,
   "id": "09efaf62",
   "metadata": {},
   "outputs": [
    {
     "ename": "ModuleNotFoundError",
     "evalue": "No module named 'pydicom'",
     "output_type": "error",
     "traceback": [
      "\u001b[1;31m---------------------------------------------------------------------------\u001b[0m",
      "\u001b[1;31mModuleNotFoundError\u001b[0m                       Traceback (most recent call last)",
      "Cell \u001b[1;32mIn [10], line 3\u001b[0m\n\u001b[0;32m      1\u001b[0m \u001b[39mimport\u001b[39;00m \u001b[39mcv2\u001b[39;00m\n\u001b[0;32m      2\u001b[0m \u001b[39mimport\u001b[39;00m \u001b[39mcv2\u001b[39;00m\n\u001b[1;32m----> 3\u001b[0m \u001b[39mimport\u001b[39;00m \u001b[39mpydicom\u001b[39;00m\n\u001b[0;32m      4\u001b[0m \u001b[39mimport\u001b[39;00m \u001b[39mmatplotlib\u001b[39;00m\n\u001b[0;32m      5\u001b[0m \u001b[39mimport\u001b[39;00m \u001b[39mmatplotlib\u001b[39;00m\u001b[39m.\u001b[39;00m\u001b[39mpyplot\u001b[39;00m \u001b[39mas\u001b[39;00m \u001b[39mplt\u001b[39;00m\n",
      "\u001b[1;31mModuleNotFoundError\u001b[0m: No module named 'pydicom'"
     ]
    }
   ],
   "source": [
    "import cv2\n",
    "import cv2\n",
    "import pydicom\n",
    "import matplotlib\n",
    "import matplotlib.pyplot as plt\n",
    "def crop_image_from_gray(img, tol =7):\n",
    "    if img.ndim == 2:\n",
    "        mask = img > tol\n",
    "        return img[np.ix_(mask.any(1), mask.any(0))]\n",
    "    elif img.ndim == 3:\n",
    "        gray_img = cv2.cvtColor(img, cv2.COLOR_RGB2GRAY)\n",
    "        mask = gray_img > tol\n",
    "        \n",
    "        check_shape = img[:,:,0][np.ix_(mask.any(1), mask.any(0))].shape[0]\n",
    "        if (check_shape == 0): #image is too dark that we crop out everything\n",
    "            return img \n",
    "        else:\n",
    "            img1 = img[:,:,0][np.ix_(mask.any(1), mask.any(0))]\n",
    "            img2 = img[:,:,1][np.ix_(mask.any(1), mask.any(0))]\n",
    "            img3 = img[:,:,2][np.ix_(mask.any(1), mask.any(0))]\n",
    "            img = np.stack([img1,img2,img3], axis = -1)\n",
    "    return img\n",
    "\n",
    "def view_images_aug(images, title =\"\", aug = None):\n",
    "    width = 6\n",
    "    height = 4\n",
    "    fig,axs = plt.subplots(height, width, figsize =(15,15), constrained_layout=True)\n",
    "    for im in range(0, height*width):\n",
    "        data = pydicom.read_file(os.path.join(train_images_dir,list(images)[im] + '.dcm'))\n",
    "        image = data.pixel_array\n",
    "        image = cv2.cvtColor(image, cv2.COLOR_BGR2RGB) #conversion from BGR image to RGB channel image\n",
    "        image = cv2.resize(image, (256,256)) \n",
    "        image = crop_image_from_gray(image)\n",
    "\n",
    "        \n",
    "        i = im // width\n",
    "        j = im % width\n",
    "        axs[i,j].imshow(image,cmap = plt.cm.bone)\n",
    "        axs[i,j].axis('off')\n",
    "    \n",
    "    plt.subplots_adjust(wspace =0,hspace =0)\n",
    "    plt.suptitle(title)\n",
    "    \n",
    "view_images_aug(train_df_1, title = \"Lentigo's Growth\")   "
   ]
  }
 ],
 "metadata": {
  "kernelspec": {
   "display_name": "Python 3.10.4 ('backend-XsqvQ-Tn')",
   "language": "python",
   "name": "python3"
  },
  "language_info": {
   "codemirror_mode": {
    "name": "ipython",
    "version": 3
   },
   "file_extension": ".py",
   "mimetype": "text/x-python",
   "name": "python",
   "nbconvert_exporter": "python",
   "pygments_lexer": "ipython3",
   "version": "3.10.4"
  },
  "vscode": {
   "interpreter": {
    "hash": "dd91fd1ee22790cc6f5064a253c97bc861d5d13743cc22b78af90b572d9570c6"
   }
  }
 },
 "nbformat": 4,
 "nbformat_minor": 5
}

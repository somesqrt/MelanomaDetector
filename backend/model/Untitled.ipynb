{
 "cells": [
  {
   "cell_type": "code",
   "execution_count": 2,
   "id": "a185ce93-9b0b-4411-b4a9-1588490e6b5c",
   "metadata": {
    "scrolled": true,
    "tags": []
   },
   "outputs": [
    {
     "data": {
      "text/plain": [
       "33126"
      ]
     },
     "execution_count": 2,
     "metadata": {},
     "output_type": "execute_result"
    }
   ],
   "source": [
    "base_url = \"D:/melanoma-data/siim-isic-melanoma-classification\"\n",
    "image_path = \"/jpeg/train\"\n",
    "import os\n",
    "len(os.listdir(base_url + image_path))"
   ]
  },
  {
   "cell_type": "code",
   "execution_count": 4,
   "id": "9f99965c-f1a0-49b6-993f-9990f710215a",
   "metadata": {},
   "outputs": [
    {
     "name": "stdout",
     "output_type": "stream",
     "text": [
      "[['ISIC_2637011' '0']\n",
      " ['ISIC_0015719' '0']\n",
      " ['ISIC_0052212' '0']\n",
      " ...\n",
      " ['ISIC_9999515' '0']\n",
      " ['ISIC_9999666' '0']\n",
      " ['ISIC_9999806' '0']]\n"
     ]
    }
   ],
   "source": [
    "import csv\n",
    "import numpy as np\n",
    "with open(base_url + '/train.csv') as file_name:\n",
    "    file_read = csv.reader(file_name)\n",
    "    array = list(file_read)\n",
    "    np_arr = np.array(array)\n",
    "print(np_arr[1:,[0,-1]])\n"
   ]
  }
 ],
 "metadata": {
  "kernelspec": {
   "display_name": "melanoma",
   "language": "python",
   "name": "melanoma"
  },
  "language_info": {
   "codemirror_mode": {
    "name": "ipython",
    "version": 3
   },
   "file_extension": ".py",
   "mimetype": "text/x-python",
   "name": "python",
   "nbconvert_exporter": "python",
   "pygments_lexer": "ipython3",
   "version": "3.10.6"
  }
 },
 "nbformat": 4,
 "nbformat_minor": 5
}

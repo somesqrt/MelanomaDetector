{
 "cells": [
  {
   "cell_type": "code",
   "execution_count": 1,
   "id": "a185ce93-9b0b-4411-b4a9-1588490e6b5c",
   "metadata": {
    "scrolled": true,
    "tags": []
   },
   "outputs": [
    {
     "name": "stdout",
     "output_type": "stream",
     "text": [
      "43141\n",
      "10014\n"
     ]
    }
   ],
   "source": [
    "base_url = \"D:/downloads\"\n",
    "image_path = \"/jpeg/train\"\n",
    "image_path1 = \"/HAM10000_images_part_1\"\n",
    "import os\n",
    "import pandas as pd\n",
    "print(len(os.listdir(base_url + image_path)))\n",
    "print(len(os.listdir(base_url + image_path1)))"
   ]
  },
  {
   "cell_type": "code",
   "execution_count": 2,
   "id": "9f99965c-f1a0-49b6-993f-9990f710215a",
   "metadata": {},
   "outputs": [
    {
     "name": "stdout",
     "output_type": "stream",
     "text": [
      "[['ISIC_2637011' '0']\n",
      " ['ISIC_0015719' '0']\n",
      " ['ISIC_0052212' '0']\n",
      " ...\n",
      " ['ISIC_9999515' '0']\n",
      " ['ISIC_9999666' '0']\n",
      " ['ISIC_9999806' '0']]\n",
      "[['ISIC_0027419' 'bkl']\n",
      " ['ISIC_0025030' 'bkl']\n",
      " ['ISIC_0026769' 'bkl']\n",
      " ...\n",
      " ['ISIC_0033536' 'akiec']\n",
      " ['ISIC_0032854' 'akiec']\n",
      " ['ISIC_0032258' 'mel']]\n"
     ]
    }
   ],
   "source": [
    "import csv\n",
    "import numpy as np\n",
    "with open(base_url + '/train.csv') as file_name:\n",
    "    file_read = csv.reader(file_name)\n",
    "    array = list(file_read)\n",
    "    np_arr = np.array(array)\n",
    "print(np_arr[1:,[0,-1]])\n",
    "\n",
    "with open(base_url + '/HAM10000_metadata.csv') as file_name:\n",
    "    file_read = csv.reader(file_name)\n",
    "    array = list(file_read)\n",
    "    np_arr = np.array(array)\n",
    "print(np_arr[1:,[1,2]])"
   ]
  },
  {
   "cell_type": "code",
   "execution_count": 3,
   "id": "858f9117",
   "metadata": {},
   "outputs": [
    {
     "name": "stdout",
     "output_type": "stream",
     "text": [
      "image_name missing values: 0\n",
      "patient_id missing values: 0\n",
      "sex missing values: 65\n",
      "age_approx missing values: 68\n",
      "anatom_site_general_challenge missing values: 527\n",
      "diagnosis missing values: 0\n",
      "benign_malignant missing values: 0\n",
      "target missing values: 0\n",
      "image_name missing values: 0\n",
      "patient_id missing values: 0\n",
      "sex missing values: 0\n",
      "age_approx missing values: 0\n",
      "anatom_site_general_challenge missing values: 0\n",
      "diagnosis missing values: 0\n",
      "benign_malignant missing values: 0\n",
      "target missing values: 0\n",
      "number of images in full train set: 33058\n",
      "Number of positive images in subset of train set: 584\n",
      "Percentage of positive images in subset train set: 1.8%\n",
      "Number of negative images in subset train set: 32474\n",
      "Percentage of negative images in subset train set: 98.2%\n"
     ]
    }
   ],
   "source": [
    "#read in train csv\n",
    "train = pd.read_csv(base_url + '/train.csv')\n",
    "\n",
    "#check for any missing values:\n",
    "for col in train.columns:\n",
    "    print(col + ' missing values: ' + str(train[col].isna().sum()))\n",
    "\n",
    "#fill missing anatom site values with \"unknown or other\"\n",
    "train.anatom_site_general_challenge.fillna('other or unknown', inplace=True)\n",
    "\n",
    "#drop all rows from the train dataframe that are associated with 3 patients who are missing some data.\n",
    "train.drop(train[(train['patient_id'] == 'IP_0550106') | (train['patient_id'] == 'IP_5205991') |(train['patient_id'] == 'IP_9835712')].index, inplace=True)\n",
    "\n",
    "#check for any more missing values:\n",
    "for col in train.columns:\n",
    "    print(col + ' missing values: ' + str(train[col].isna().sum()))\n",
    "\n",
    "data = train\n",
    "\n",
    "n_pos = len(data[data['target']==1])\n",
    "print('number of images in full train set: {}'.format(len(data)))\n",
    "print('Number of positive images in subset of train set: {}'.format(n_pos))\n",
    "print('Percentage of positive images in subset train set: {:.1%}'.format(n_pos/len(data)))\n",
    "print('Number of negative images in subset train set: {}'.format(len(data) - n_pos))\n",
    "print('Percentage of negative images in subset train set: {:.1%}'.format(1 - n_pos/len(data)))\n"
   ]
  },
  {
   "cell_type": "code",
   "execution_count": 4,
   "id": "39eb92a0",
   "metadata": {},
   "outputs": [
    {
     "name": "stdout",
     "output_type": "stream",
     "text": [
      "[['ISIC_0030623' 1]\n",
      " ['ISIC_0027190' 1]\n",
      " ['ISIC_0031023' 1]\n",
      " ...\n",
      " ['ISIC_0032936' 1]\n",
      " ['ISIC_0033232' 1]\n",
      " ['ISIC_0032258' 1]] \n",
      "\n",
      "[['ISIC_0024693' 0]\n",
      " ['ISIC_0032212' 0]\n",
      " ['ISIC_0025775' 0]\n",
      " ...\n",
      " ['ISIC_0032221' 0]\n",
      " ['ISIC_0030693' 0]\n",
      " ['ISIC_0031649' 0]]\n"
     ]
    }
   ],
   "source": [
    "#zmenime typ hodnoty s druheho datasetu na typ s prveho datasetu aby sme mohli potom dva datasety spojit\n",
    "train1 = pd.read_csv(base_url + '/HAM10000_metadata.csv')\n",
    "data1 = train1\n",
    "\n",
    "malign_data1 = data1[data1['dx']=='mel'].to_numpy()[1:,[1,2]]\n",
    "benign_data1 = data1[data1['dx']=='nv'].to_numpy()[1:,[1,2]]\n",
    "#print(malign_data)\n",
    "#print(benign_data)\n",
    "#print(malign_data[1:,1])\n",
    "#print(malign_data)\n",
    "#print(malign_data[0][1])\n",
    "malign_data1[0][1] = 1\n",
    "benign_data1[0][1] = 0\n",
    "for cislo in range(len(malign_data1[1:,1])):\n",
    "    if malign_data1[1:,1][cislo-1] == 'mel':\n",
    "        malign_data1[1:,1][cislo-1] = 1\n",
    "\n",
    "for cislo in range(len(benign_data1[1:,1])):\n",
    "    if benign_data1[1:,1][cislo] == 'nv':\n",
    "        benign_data1[1:,1][cislo] = 0\n",
    "\n",
    "print(malign_data1, '\\n')\n",
    "print(benign_data1)"
   ]
  },
  {
   "cell_type": "code",
   "execution_count": 5,
   "id": "4a57696e",
   "metadata": {},
   "outputs": [
    {
     "name": "stdout",
     "output_type": "stream",
     "text": [
      "1166\n",
      "1166\n",
      "[['ISIC_9396628' 0]\n",
      " ['ISIC_9264993' 0]\n",
      " ['ISIC_8975142' 0]\n",
      " ...\n",
      " ['ISIC_0032221' 0]\n",
      " ['ISIC_0030693' 0]\n",
      " ['ISIC_0031649' 0]]\n",
      "[['ISIC_0188432' 1]\n",
      " ['ISIC_0207268' 1]\n",
      " ['ISIC_0232101' 1]\n",
      " ...\n",
      " ['ISIC_0032936' 1]\n",
      " ['ISIC_0033232' 1]\n",
      " ['ISIC_0032258' 1]]\n",
      "1695\n",
      "1695\n"
     ]
    }
   ],
   "source": [
    "train = pd.read_csv(base_url + '/train.csv')\n",
    "data = train\n",
    "malign_data = data[data['target']==1].to_numpy()[1:,[0,-1]]\n",
    "benign_data = data[data['target']==0].to_numpy()\n",
    "idx_x = np.random.choice(len(benign_data),int(len(benign_data)),replace=False)\n",
    "benign_data = np.array(benign_data[idx_x])\n",
    "\n",
    "benign_data = benign_data[:len(malign_data)+1]\n",
    "benign_data = benign_data[1:,[0,-1]]\n",
    "print(benign_data.size)\n",
    "print(malign_data.size)\n",
    "\n",
    "benign_data = np.concatenate([benign_data, benign_data1])\n",
    "malign_data = np.concatenate([malign_data, malign_data1])\n",
    "\n",
    "print(benign_data)\n",
    "print(malign_data)\n",
    "\n",
    "benign_data = benign_data[:1695]\n",
    "#malign_data = malign_data[:1500]\n",
    "\n",
    "print(len(benign_data))\n",
    "print(len(malign_data))\n",
    "\n",
    "\n",
    "\n",
    "#benign_data = benign_data.reshape(583 , 2) + benign_data1.reshape(6704, 2)\n",
    "#malign_data = malign_data + malign_data1\n",
    "\n",
    "#print(benign_data)\n",
    "#print(malign_data)\n",
    "#print(len(benign_data))\n",
    "#print(len(malign_data))\n"
   ]
  },
  {
   "cell_type": "code",
   "execution_count": 6,
   "id": "ee86afc6",
   "metadata": {},
   "outputs": [
    {
     "name": "stdout",
     "output_type": "stream",
     "text": [
      "1186\n",
      "1186\n",
      "254\n",
      "254\n"
     ]
    }
   ],
   "source": [
    "shuffle_benign = np.random.choice(len(benign_data),int(len(benign_data)),replace=False)\n",
    "shuffle_malign = np.random.choice(len(malign_data),int(len(malign_data)),replace=False)\n",
    "idx_train_benign = shuffle_benign[:int(len(shuffle_benign)*0.70)]\n",
    "idx_test_benign = shuffle_benign[int(len(shuffle_benign)*0.70):int(len(shuffle_benign)*0.85)]\n",
    "idx_valid_benign = shuffle_benign[int(len(shuffle_benign)*0.85):int(len(shuffle_benign)*1)]\n",
    "idx_train_malign = shuffle_malign[:int(len(shuffle_malign)*0.70)]\n",
    "idx_test_malign = shuffle_malign[int(len(shuffle_malign)*0.70):int(len(shuffle_benign)*0.85)]\n",
    "idx_valid_malign = shuffle_malign[int(len(shuffle_malign)*0.85):int(len(shuffle_benign)*1)]\n",
    "\n",
    "train_data_benign = benign_data[idx_train_benign]\n",
    "test_data_benign = benign_data[idx_test_benign]\n",
    "valid_data_benign = benign_data[idx_valid_benign]\n",
    "\n",
    "train_data_malign = malign_data[idx_train_malign]\n",
    "test_data_malign = malign_data[idx_test_malign]\n",
    "valid_data_malign = malign_data[idx_valid_malign]\n",
    "print(len(train_data_benign))\n",
    "print(len(train_data_malign))\n",
    "print(len(test_data_benign))\n",
    "print(len(test_data_malign))"
   ]
  },
  {
   "cell_type": "code",
   "execution_count": 7,
   "id": "48c9c1d4",
   "metadata": {},
   "outputs": [
    {
     "name": "stdout",
     "output_type": "stream",
     "text": [
      "[['ISIC_0033120' 1]\n",
      " ['ISIC_0952472' 1]\n",
      " ['ISIC_0027000' 0]\n",
      " ...\n",
      " ['ISIC_0779920' 1]\n",
      " ['ISIC_0026914' 0]\n",
      " ['ISIC_2568374' 0]]\n",
      "[['ISIC_3319229' 1]\n",
      " ['ISIC_0028291' 1]\n",
      " ['ISIC_0028017' 1]\n",
      " ...\n",
      " ['ISIC_5828564' 0]\n",
      " ['ISIC_2027582' 1]\n",
      " ['ISIC_0032134' 1]]\n",
      "[['ISIC_0032511' 1]\n",
      " ['ISIC_0030657' 0]\n",
      " ['ISIC_0025213' 0]\n",
      " ...\n",
      " ['ISIC_9616071' 0]\n",
      " ['ISIC_6912979' 0]\n",
      " ['ISIC_0026510' 0]]\n"
     ]
    }
   ],
   "source": [
    "train_data = np.concatenate((train_data_benign, train_data_malign), axis=0)\n",
    "test_data = np.concatenate((test_data_benign, test_data_malign), axis=0)\n",
    "valid_data = np.concatenate((valid_data_benign, valid_data_malign), axis=0)\n",
    "\n",
    "shuffle_train = np.random.choice(len(train_data),int(len(train_data)),replace=False)\n",
    "shuffle_test = np.random.choice(len(test_data),int(len(test_data)),replace=False)\n",
    "shuffle_valid = np.random.choice(len(valid_data),int(len(valid_data)),replace=False)\n",
    "\n",
    "train_data = train_data[shuffle_train]\n",
    "test_data = train_data[shuffle_test]\n",
    "valid_data = train_data[shuffle_valid]\n",
    "print(train_data)\n",
    "print(test_data)\n",
    "print(valid_data)"
   ]
  },
  {
   "cell_type": "code",
   "execution_count": 8,
   "id": "f4d7c5cf",
   "metadata": {},
   "outputs": [],
   "source": [
    "import cv2\n",
    "import matplotlib.pyplot as plt"
   ]
  },
  {
   "cell_type": "code",
   "execution_count": 10,
   "id": "08042cc4",
   "metadata": {},
   "outputs": [
    {
     "ename": "KeyboardInterrupt",
     "evalue": "",
     "output_type": "error",
     "traceback": [
      "\u001b[1;31m---------------------------------------------------------------------------\u001b[0m",
      "\u001b[1;31mKeyboardInterrupt\u001b[0m                         Traceback (most recent call last)",
      "Cell \u001b[1;32mIn [10], line 3\u001b[0m\n\u001b[0;32m      1\u001b[0m shapes \u001b[39m=\u001b[39m []\n\u001b[0;32m      2\u001b[0m \u001b[39mfor\u001b[39;00m img \u001b[39min\u001b[39;00m train_data:\n\u001b[1;32m----> 3\u001b[0m     shapes\u001b[39m.\u001b[39mappend(np\u001b[39m.\u001b[39mshape(cv2\u001b[39m.\u001b[39;49mimread(base_url \u001b[39m+\u001b[39;49m image_path\u001b[39m+\u001b[39;49m \u001b[39m'\u001b[39;49m\u001b[39m/\u001b[39;49m\u001b[39m'\u001b[39;49m \u001b[39m+\u001b[39;49m img[\u001b[39m0\u001b[39;49m] \u001b[39m+\u001b[39;49m \u001b[39m'\u001b[39;49m\u001b[39m.jpg\u001b[39;49m\u001b[39m'\u001b[39;49m)))\n",
      "\u001b[1;31mKeyboardInterrupt\u001b[0m: "
     ]
    }
   ],
   "source": [
    "shapes = []\n",
    "for img in train_data:\n",
    "    shapes.append(np.shape(cv2.imread(base_url + image_path+ '/' + img[0] + '.jpg')))\n",
    "#print(shapes)"
   ]
  },
  {
   "cell_type": "code",
   "execution_count": 11,
   "id": "a5f03be3",
   "metadata": {},
   "outputs": [
    {
     "data": {
      "text/plain": [
       "array([[<AxesSubplot: title={'center': '0'}>,\n",
       "        <AxesSubplot: title={'center': '1'}>],\n",
       "       [<AxesSubplot: title={'center': '2'}>, <AxesSubplot: >]],\n",
       "      dtype=object)"
      ]
     },
     "execution_count": 11,
     "metadata": {},
     "output_type": "execute_result"
    },
    {
     "data": {
      "image/png": "[encoded data removed]",
      "text/plain": [
       "<Figure size 640x480 with 4 Axes>"
      ]
     },
     "metadata": {},
     "output_type": "display_data"
    }
   ],
   "source": [
    "df = pd.DataFrame(data = shapes)\n",
    "df.hist()"
   ]
  },
  {
   "cell_type": "code",
   "execution_count": 12,
   "id": "8f3a00ec",
   "metadata": {},
   "outputs": [
    {
     "name": "stdout",
     "output_type": "stream",
     "text": [
      "Num GPUs Available:  0\n",
      "[name: \"/device:CPU:0\"\n",
      "device_type: \"CPU\"\n",
      "memory_limit: 268435456\n",
      "locality {\n",
      "}\n",
      "incarnation: 8755858585642884056\n",
      "xla_global_id: -1\n",
      "]\n",
      "<tensorflow.python.eager.context._EagerDeviceContext object at 0x000001A6B3768C40>\n"
     ]
    }
   ],
   "source": [
    "import tensorflow as tf\n",
    "from tensorflow.python.client import device_lib\n",
    "\n",
    "print(\"Num GPUs Available: \", len(tf.config.list_physical_devices('GPU')))\n",
    "print(device_lib.list_local_devices())\n",
    "print(tf.device('/device:GPU:0'))"
   ]
  },
  {
   "cell_type": "code",
   "execution_count": 13,
   "id": "2e688e6a",
   "metadata": {},
   "outputs": [],
   "source": [
    "import math"
   ]
  },
  {
   "cell_type": "code",
   "execution_count": 14,
   "id": "8a30e0ea",
   "metadata": {},
   "outputs": [
    {
     "data": {
      "text/plain": [
       "array([1, 1, 0, ..., 1, 0, 0], dtype=object)"
      ]
     },
     "execution_count": 14,
     "metadata": {},
     "output_type": "execute_result"
    }
   ],
   "source": [
    "train_data[:,1]"
   ]
  },
  {
   "cell_type": "code",
   "execution_count": 15,
   "id": "2a010d44",
   "metadata": {},
   "outputs": [
    {
     "name": "stdout",
     "output_type": "stream",
     "text": [
      "done\n",
      "['ISIC_0033120' 'ISIC_0952472' 'ISIC_0027000' ... 'ISIC_0779920'\n",
      " 'ISIC_0026914' 'ISIC_2568374']\n"
     ]
    }
   ],
   "source": [
    "class Generator(tf.keras.utils.Sequence ):\n",
    "\n",
    "    def __init__(self, paths, labels, batch_size):\n",
    "        self.paths, self.labels, self.batch_size = paths, labels, batch_size\n",
    "\n",
    "\n",
    "    def __len__(self):\n",
    "        return math.ceil(len(self.paths) / self.batch_size)\n",
    "\n",
    "    def __getitem__(self, idx):\n",
    "        batch_x = self.paths[idx * self.batch_size : (idx + 1) * self.batch_size]\n",
    "        batch_y = self.labels[idx * self.batch_size : (idx + 1) * self.batch_size]\n",
    "        \n",
    "\n",
    "        batch_x = [self.hair_remove(cv2.resize(cv2.imread(base_url + image_path+ '/' + x + '.jpg'), (256 , 256 )).reshape((256,256,3))) for x in batch_x]\n",
    "        batch_y = tf.keras.utils.to_categorical(batch_y, num_classes=2)\n",
    "\n",
    "\n",
    "    \n",
    "        return np.array(batch_x), np.array(batch_y)\n",
    "    def hair_remove(self, image):\n",
    "    #convert image to greyscale\n",
    "        grayScale = cv2.cvtColor(image,cv2.COLOR_RGB2GRAY)\n",
    "    \n",
    "        #kernel for morphologyEx\n",
    "        kernel = cv2.getStructuringElement(1,(17,17))\n",
    "    \n",
    "    #apply MORPH_Blackhat to grayscale image\n",
    "        blackhat = cv2.morphologyEx(grayScale,cv2.MORPH_BLACKHAT,kernel)\n",
    "    #apply thresholding to blackhat\n",
    "        _, threshold = cv2.threshold(blackhat,10,255,cv2.THRESH_BINARY)\n",
    "    #inpaint with original image and threshold image\n",
    "        final_image = cv2.inpaint(image,threshold,1,cv2.INPAINT_TELEA)\n",
    "    \n",
    "        return final_image\n",
    "\n",
    "\n",
    "\n",
    "\n",
    "train_gen = Generator(train_data[:,0], train_data[:,1], 4)\n",
    "test_gen = Generator(test_data[:,0], test_data[:,1], 4)\n",
    "valid_gen = Generator(valid_data[:,0], valid_data[:,1], 4)\n",
    "print('done')\n",
    "print(train_data[:,0])"
   ]
  },
  {
   "cell_type": "code",
   "execution_count": 16,
   "id": "21ad7d92",
   "metadata": {},
   "outputs": [],
   "source": [
    "from tensorflow.keras import layers, models"
   ]
  },
  {
   "cell_type": "code",
   "execution_count": 17,
   "id": "819516fd",
   "metadata": {},
   "outputs": [],
   "source": [
    "resnet_model = models.Sequential()\n",
    "\n",
    "pretrained_model= tf.keras.applications.ResNet50(include_top=False,\n",
    "                   input_shape=(256,256,3),\n",
    "                   pooling='avg',classes=2,\n",
    "                   weights='imagenet')\n",
    "for layer in pretrained_model.layers:\n",
    "        layer.trainable=False\n",
    "\n",
    "resnet_model.add(pretrained_model)\n",
    "resnet_model.add(layers.Flatten())\n",
    "resnet_model.add(layers.Dense(254, activation='relu'))\n",
    "resnet_model.add(layers.Dense(128, activation='relu'))\n",
    "resnet_model.add(layers.Dense(2, activation='softmax'))\n"
   ]
  },
  {
   "cell_type": "code",
   "execution_count": 18,
   "id": "6884e180",
   "metadata": {},
   "outputs": [
    {
     "name": "stdout",
     "output_type": "stream",
     "text": [
      "done\n"
     ]
    }
   ],
   "source": [
    "resnet_model.compile(optimizer='adam',\n",
    "              loss=tf.keras.losses.CategoricalCrossentropy(from_logits=True),\n",
    "              metrics=['accuracy']\n",
    "              )\n",
    "\n",
    "# tf.keras.utils.plot_model(resnet_model)\n",
    "print('done')"
   ]
  },
  {
   "cell_type": "code",
   "execution_count": 19,
   "id": "2a25051c",
   "metadata": {},
   "outputs": [],
   "source": [
    "model_checkpoint_callback = tf.keras.callbacks.ModelCheckpoint(\n",
    "        filepath=\"first/future.hdf5\",\n",
    "        #     save_weights_only=True,\n",
    "        monitor='val_accuracy',\n",
    "        mode='max',\n",
    "        save_best_only=True)"
   ]
  },
  {
   "cell_type": "code",
   "execution_count": 21,
   "id": "75a408b9",
   "metadata": {},
   "outputs": [
    {
     "name": "stdout",
     "output_type": "stream",
     "text": [
      "Epoch 1/7\n",
      "593/593 [==============================] - 905s 2s/step - loss: 0.3404 - accuracy: 0.8634 - val_loss: 0.2226 - val_accuracy: 0.9055\n",
      "Epoch 2/7\n",
      "593/593 [==============================] - 958s 2s/step - loss: 0.2376 - accuracy: 0.8997 - val_loss: 0.1878 - val_accuracy: 0.9134\n",
      "Epoch 3/7\n",
      "593/593 [==============================] - 898s 2s/step - loss: 0.2133 - accuracy: 0.9064 - val_loss: 0.1789 - val_accuracy: 0.9252\n",
      "Epoch 4/7\n",
      "593/593 [==============================] - 876s 1s/step - loss: 0.1865 - accuracy: 0.9203 - val_loss: 0.1383 - val_accuracy: 0.9409\n",
      "Epoch 5/7\n",
      "593/593 [==============================] - 883s 1s/step - loss: 0.1637 - accuracy: 0.9254 - val_loss: 0.1701 - val_accuracy: 0.9193\n",
      "Epoch 6/7\n",
      "593/593 [==============================] - 918s 2s/step - loss: 0.1540 - accuracy: 0.9334 - val_loss: 0.1239 - val_accuracy: 0.9429\n",
      "Epoch 7/7\n",
      "593/593 [==============================] - 750s 1s/step - loss: 0.1394 - accuracy: 0.9393 - val_loss: 0.1019 - val_accuracy: 0.9626\n",
      "done\n"
     ]
    }
   ],
   "source": [
    "history = resnet_model.fit(train_gen, validation_data=test_gen, epochs=7, callbacks=[model_checkpoint_callback])\n",
    "print('done')"
   ]
  },
  {
   "cell_type": "code",
   "execution_count": 22,
   "id": "37812c8d",
   "metadata": {},
   "outputs": [
    {
     "name": "stdout",
     "output_type": "stream",
     "text": [
      "dict_keys(['loss', 'accuracy', 'val_loss', 'val_accuracy'])\n"
     ]
    },
    {
     "data": {
      "image/png": "[encoded data removed]",
      "text/plain": [
       "<Figure size 640x480 with 1 Axes>"
      ]
     },
     "metadata": {},
     "output_type": "display_data"
    }
   ],
   "source": [
    "print(history.history.keys())\n",
    "plt.plot(history.history[\"accuracy\"])\n",
    "plt.plot(history.history['val_accuracy'])\n",
    "plt.plot(history.history['loss'])\n",
    "plt.plot(history.history['val_loss'])\n",
    "plt.title(\"model accuracy\")\n",
    "plt.ylabel(\"Accuracy\")\n",
    "plt.xlabel(\"Epoch\")\n",
    "plt.legend([\"Accuracy\",\"Validation Accuracy\",\"loss\",\"Validation Loss\"])\n",
    "plt.show()"
   ]
  },
  {
   "cell_type": "code",
   "execution_count": 23,
   "id": "2578b64c",
   "metadata": {},
   "outputs": [
    {
     "name": "stdout",
     "output_type": "stream",
     "text": [
      "Model: \"sequential\"\n",
      "_________________________________________________________________\n",
      " Layer (type)                Output Shape              Param #   \n",
      "=================================================================\n",
      " resnet50 (Functional)       (None, 2048)              23587712  \n",
      "                                                                 \n",
      " flatten (Flatten)           (None, 2048)              0         \n",
      "                                                                 \n",
      " dense (Dense)               (None, 254)               520446    \n",
      "                                                                 \n",
      " dense_1 (Dense)             (None, 128)               32640     \n",
      "                                                                 \n",
      " dense_2 (Dense)             (None, 2)                 258       \n",
      "                                                                 \n",
      "=================================================================\n",
      "Total params: 24,141,056\n",
      "Trainable params: 553,344\n",
      "Non-trainable params: 23,587,712\n",
      "_________________________________________________________________\n",
      "[[[[15  8 13]\n",
      "   [17  9 19]\n",
      "   [22 14 20]\n",
      "   ...\n",
      "   [37 26 42]\n",
      "   [29 23 36]\n",
      "   [30 22 37]]\n",
      "\n",
      "  [[15  6 15]\n",
      "   [20 12 19]\n",
      "   [25 14 26]\n",
      "   ...\n",
      "   [39 28 44]\n",
      "   [35 25 38]\n",
      "   [32 22 38]]\n",
      "\n",
      "  [[16  9 15]\n",
      "   [23 12 27]\n",
      "   [27 18 28]\n",
      "   ...\n",
      "   [42 30 47]\n",
      "   [38 27 42]\n",
      "   [33 23 39]]\n",
      "\n",
      "  ...\n",
      "\n",
      "  [[34 28 47]\n",
      "   [36 30 49]\n",
      "   [34 28 46]\n",
      "   ...\n",
      "   [ 8  6 11]\n",
      "   [ 9  5 10]\n",
      "   [ 6  6 10]]\n",
      "\n",
      "  [[34 28 47]\n",
      "   [34 28 47]\n",
      "   [34 28 48]\n",
      "   ...\n",
      "   [ 8  7 14]\n",
      "   [ 3  5 14]\n",
      "   [ 3  3 13]]\n",
      "\n",
      "  [[36 29 49]\n",
      "   [36 27 49]\n",
      "   [35 28 48]\n",
      "   ...\n",
      "   [ 9  6 15]\n",
      "   [ 5  5 14]\n",
      "   [ 6  6 13]]]]\n",
      "1/1 [==============================] - 2s 2s/step\n",
      "[[2.8421722e-05 9.9997163e-01]]\n",
      "1\n"
     ]
    }
   ],
   "source": [
    "resnet_model.summary()\n",
    "#url = \"D:/downloads/HAM10000_images_part_1/ISIC_0027315.jpg\"\n",
    "#url = \"D:/downloads/HAM10000_images_part_1/ISIC_0024698.jpg\"\n",
    "url = \"D:/downloads/HAM10000_images_part_1/ISIC_0029081.jpg\"\n",
    "#img = cv2.imread(url)\n",
    "img = cv2.resize(cv2.imread(url), (256 , 256 )).reshape((256,256,3))\n",
    "#print(img)\n",
    "l = np.array([img])\n",
    "#l = np.expand_dims(img, axis=0)\n",
    "print(l)\n",
    "#img1 = cv2.imread(l)\n",
    "result = resnet_model.predict(l)\n",
    "print(result)\n",
    "print(np.argmax(result))"
   ]
  },
  {
   "cell_type": "code",
   "execution_count": 24,
   "id": "ba0c8cd4",
   "metadata": {},
   "outputs": [],
   "source": [
    "import cv2"
   ]
  }
 ],
 "metadata": {
  "kernelspec": {
   "display_name": "Python 3.10.4 ('backend-XsqvQ-Tn')",
   "language": "python",
   "name": "python3"
  },
  "language_info": {
   "codemirror_mode": {
    "name": "ipython",
    "version": 3
   },
   "file_extension": ".py",
   "mimetype": "text/x-python",
   "name": "python",
   "nbconvert_exporter": "python",
   "pygments_lexer": "ipython3",
   "version": "3.10.4"
  },
  "vscode": {
   "interpreter": {
    "hash": "dd91fd1ee22790cc6f5064a253c97bc861d5d13743cc22b78af90b572d9570c6"
   }
  }
 },
 "nbformat": 4,
 "nbformat_minor": 5
}

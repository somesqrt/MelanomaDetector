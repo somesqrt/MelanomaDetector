{
 "cells": [
  {
   "cell_type": "code",
   "execution_count": 8,
   "id": "a185ce93-9b0b-4411-b4a9-1588490e6b5c",
   "metadata": {
    "scrolled": true,
    "tags": []
   },
   "outputs": [
    {
     "data": {
      "text/plain": [
       "33126"
      ]
     },
     "execution_count": 8,
     "metadata": {},
     "output_type": "execute_result"
    }
   ],
   "source": [
    "base_url = \"D:/melanoma-data/siim-isic-melanoma-classification\"\n",
    "image_path = \"/jpeg/train\"\n",
    "import os\n",
    "import pandas as pd\n",
    "len(os.listdir(base_url + image_path))"
   ]
  },
  {
   "cell_type": "code",
   "execution_count": 6,
   "id": "9f99965c-f1a0-49b6-993f-9990f710215a",
   "metadata": {},
   "outputs": [
    {
     "name": "stdout",
     "output_type": "stream",
     "text": [
      "[['ISIC_2637011' '0']\n",
      " ['ISIC_0015719' '0']\n",
      " ['ISIC_0052212' '0']\n",
      " ...\n",
      " ['ISIC_9999515' '0']\n",
      " ['ISIC_9999666' '0']\n",
      " ['ISIC_9999806' '0']]\n"
     ]
    }
   ],
   "source": [
    "import csv\n",
    "import numpy as np\n",
    "with open(base_url + '/train.csv') as file_name:\n",
    "    file_read = csv.reader(file_name)\n",
    "    array = list(file_read)\n",
    "    np_arr = np.array(array)\n",
    "print(np_arr[1:,[0,-1]])"
   ]
  },
  {
   "cell_type": "code",
   "execution_count": 12,
   "id": "858f9117",
   "metadata": {},
   "outputs": [
    {
     "name": "stdout",
     "output_type": "stream",
     "text": [
      "image_name missing values: 0\n",
      "patient_id missing values: 0\n",
      "sex missing values: 65\n",
      "age_approx missing values: 68\n",
      "anatom_site_general_challenge missing values: 527\n",
      "diagnosis missing values: 0\n",
      "benign_malignant missing values: 0\n",
      "target missing values: 0\n",
      "image_name missing values: 0\n",
      "patient_id missing values: 0\n",
      "sex missing values: 0\n",
      "age_approx missing values: 0\n",
      "anatom_site_general_challenge missing values: 0\n",
      "diagnosis missing values: 0\n",
      "benign_malignant missing values: 0\n",
      "target missing values: 0\n",
      "number of images in full train set: 33058\n",
      "Number of positive images in subset of train set: 32474\n",
      "Percentage of positive images in subset train set: 98.2%\n",
      "Number of negative images in subset train set: 584\n",
      "Percentage of negative images in subset train set: 1.8%\n",
      "         image_name  patient_id     sex  age_approx  \\\n",
      "91     ISIC_0149568  IP_0962375  female        55.0   \n",
      "235    ISIC_0188432  IP_0135517  female        50.0   \n",
      "314    ISIC_0207268  IP_7735373    male        55.0   \n",
      "399    ISIC_0232101  IP_8349964    male        65.0   \n",
      "459    ISIC_0247330  IP_3232631  female        65.0   \n",
      "...             ...         ...     ...         ...   \n",
      "32969  ISIC_9955163  IP_7507212    male        55.0   \n",
      "33000  ISIC_9963177  IP_1165806    male        70.0   \n",
      "33014  ISIC_9967383  IP_7887363    male        60.0   \n",
      "33050  ISIC_9978107  IP_2860540    male        65.0   \n",
      "33117  ISIC_9998682  IP_2516168    male        60.0   \n",
      "\n",
      "      anatom_site_general_challenge diagnosis benign_malignant  target  \n",
      "91                  upper extremity  melanoma        malignant       1  \n",
      "235                 upper extremity  melanoma        malignant       1  \n",
      "314                           torso  melanoma        malignant       1  \n",
      "399                           torso  melanoma        malignant       1  \n",
      "459                 lower extremity  melanoma        malignant       1  \n",
      "...                             ...       ...              ...     ...  \n",
      "32969               upper extremity  melanoma        malignant       1  \n",
      "33000                         torso  melanoma        malignant       1  \n",
      "33014               upper extremity  melanoma        malignant       1  \n",
      "33050               lower extremity  melanoma        malignant       1  \n",
      "33117                     head/neck  melanoma        malignant       1  \n",
      "\n",
      "[584 rows x 8 columns]\n",
      "         image_name  patient_id     sex  age_approx  \\\n",
      "0      ISIC_2637011  IP_7279968    male        45.0   \n",
      "1      ISIC_0015719  IP_3075186  female        45.0   \n",
      "2      ISIC_0052212  IP_2842074  female        50.0   \n",
      "3      ISIC_0068279  IP_6890425  female        45.0   \n",
      "4      ISIC_0074268  IP_8723313  female        55.0   \n",
      "...             ...         ...     ...         ...   \n",
      "33121  ISIC_9999134  IP_6526534    male        50.0   \n",
      "33122  ISIC_9999320  IP_3650745    male        65.0   \n",
      "33123  ISIC_9999515  IP_2026598    male        20.0   \n",
      "33124  ISIC_9999666  IP_7702038    male        50.0   \n",
      "33125  ISIC_9999806  IP_0046310    male        45.0   \n",
      "\n",
      "      anatom_site_general_challenge diagnosis benign_malignant  target  \n",
      "0                         head/neck   unknown           benign       0  \n",
      "1                   upper extremity   unknown           benign       0  \n",
      "2                   lower extremity     nevus           benign       0  \n",
      "3                         head/neck   unknown           benign       0  \n",
      "4                   upper extremity   unknown           benign       0  \n",
      "...                             ...       ...              ...     ...  \n",
      "33121                         torso   unknown           benign       0  \n",
      "33122                         torso   unknown           benign       0  \n",
      "33123               lower extremity   unknown           benign       0  \n",
      "33124               lower extremity   unknown           benign       0  \n",
      "33125                         torso     nevus           benign       0  \n",
      "\n",
      "[32474 rows x 8 columns]\n"
     ]
    }
   ],
   "source": [
    "#read in train csv\n",
    "train = pd.read_csv(base_url + '/train.csv')\n",
    "\n",
    "#check for any missing values:\n",
    "for col in train.columns:\n",
    "    print(col + ' missing values: ' + str(train[col].isna().sum()))\n",
    "\n",
    "#fill missing anatom site values with \"unknown or other\"\n",
    "train.anatom_site_general_challenge.fillna('other or unknown', inplace=True)\n",
    "\n",
    "#drop all rows from the train dataframe that are associated with 3 patients who are missing some data.\n",
    "train.drop(train[(train['patient_id'] == 'IP_0550106') | (train['patient_id'] == 'IP_5205991') |(train['patient_id'] == 'IP_9835712')].index, inplace=True)\n",
    "\n",
    "#check for any more missing values:\n",
    "for col in train.columns:\n",
    "    print(col + ' missing values: ' + str(train[col].isna().sum()))\n",
    "\n",
    "data = train\n",
    "\n",
    "n_pos = len(data[data['target']==1])\n",
    "print('number of images in full train set: {}'.format(len(data)))\n",
    "print('Number of positive images in subset of train set: {}'.format(n_pos))\n",
    "print('Percentage of positive images in subset train set: {:.1%}'.format(n_pos/len(data)))\n",
    "print('Number of negative images in subset train set: {}'.format(len(data) - n_pos))\n",
    "print('Percentage of negative images in subset train set: {:.1%}'.format(1 - n_pos/len(data)))\n"
   ]
  },
  {
   "cell_type": "code",
   "execution_count": 35,
   "id": "4a57696e",
   "metadata": {},
   "outputs": [
    {
     "name": "stdout",
     "output_type": "stream",
     "text": [
      "[['ISIC_5068748' 0]\n",
      " ['ISIC_1054090' 0]\n",
      " ['ISIC_1388032' 0]\n",
      " ...\n",
      " ['ISIC_2853290' 0]\n",
      " ['ISIC_5431995' 0]\n",
      " ['ISIC_7018944' 0]]\n",
      "[['ISIC_0188432' 1]\n",
      " ['ISIC_0207268' 1]\n",
      " ['ISIC_0232101' 1]\n",
      " ...\n",
      " ['ISIC_9967383' 1]\n",
      " ['ISIC_9978107' 1]\n",
      " ['ISIC_9998682' 1]]\n",
      "583\n",
      "583\n"
     ]
    }
   ],
   "source": [
    "malign_data = data[data['target']==1].to_numpy()[1:,[0,-1]]\n",
    "benign_data = data[data['target']==0].to_numpy()\n",
    "idx_x = np.random.choice(len(benign_data),int(len(benign_data)),replace=False)\n",
    "benign_data = np.array(benign_data[idx_x])\n",
    "\n",
    "benign_data = benign_data[:len(malign_data)+1]\n",
    "benign_data = benign_data[1:,[0,-1]]\n",
    "print(benign_data)\n",
    "print(malign_data)\n",
    "print(len(benign_data))\n",
    "print(len(malign_data))\n"
   ]
  },
  {
   "cell_type": "code",
   "execution_count": 37,
   "id": "ee86afc6",
   "metadata": {},
   "outputs": [
    {
     "name": "stdout",
     "output_type": "stream",
     "text": [
      "408\n",
      "408\n",
      "87\n",
      "87\n"
     ]
    }
   ],
   "source": [
    "shuffle_benign = np.random.choice(len(benign_data),int(len(benign_data)),replace=False)\n",
    "shuffle_malign = np.random.choice(len(malign_data),int(len(malign_data)),replace=False)\n",
    "idx_train_benign = shuffle_benign[:int(len(shuffle_benign)*0.70)]\n",
    "idx_test_benign = shuffle_benign[int(len(shuffle_benign)*0.70):int(len(shuffle_benign)*0.85)]\n",
    "idx_valid_benign = shuffle_benign[int(len(shuffle_benign)*0.85):int(len(shuffle_benign)*1)]\n",
    "idx_train_malign = shuffle_malign[:int(len(shuffle_malign)*0.70)]\n",
    "idx_test_malign = shuffle_malign[int(len(shuffle_malign)*0.70):int(len(shuffle_benign)*0.85)]\n",
    "idx_valid_malign = shuffle_malign[int(len(shuffle_malign)*0.85):int(len(shuffle_benign)*1)]\n",
    "\n",
    "train_data_benign = benign_data[idx_train_benign]\n",
    "test_data_benign = benign_data[idx_test_benign]\n",
    "valid_data_benign = benign_data[idx_valid_benign]\n",
    "\n",
    "train_data_malign = malign_data[idx_train_malign]\n",
    "test_data_malign = malign_data[idx_test_malign]\n",
    "valid_data_malign = malign_data[idx_valid_malign]\n",
    "print(len(train_data_benign))\n",
    "print(len(train_data_malign))\n",
    "print(len(test_data_benign))\n",
    "print(len(test_data_malign))"
   ]
  },
  {
   "cell_type": "code",
   "execution_count": null,
   "id": "48c9c1d4",
   "metadata": {},
   "outputs": [],
   "source": [
    "train_data = np.concatenate((train_data_benign, train_data_malign), axis=0)\n",
    "test_data = np.concatenate((test_data_benign, test_data_malign), axis=0)\n",
    "valid_data = np.concatenate((valid_data_benign, valid_data_malign), axis=0)\n",
    "\n",
    "shuffle_train = np.random.choice(len(train_data),int(len(train_data)),replace=False)\n",
    "shuffle_test = np.random.choice(len(test_data),int(len(test_data)),replace=False)\n",
    "shuffle_valid = np.random.choice(len(valid_data),int(len(valid_data)),replace=False)\n",
    "\n",
    "train_data = train_data[shuffle_train]\n",
    "test_data = train_data[shuffle_test]\n",
    "valid_data = train_data[shuffle_valid]\n",
    "print(train_data)\n",
    "print(test_data)\n",
    "print(valid_data)"
   ]
  },
  {
   "cell_type": "code",
   "execution_count": 49,
   "id": "f4d7c5cf",
   "metadata": {},
   "outputs": [],
   "source": [
    "import cv2\n",
    "import matplotlib.pyplot as plt"
   ]
  },
  {
   "cell_type": "code",
   "execution_count": null,
   "id": "08042cc4",
   "metadata": {},
   "outputs": [],
   "source": [
    "shapes = []\n",
    "for img in train_data:\n",
    "    shapes.append(np.shape(cv2.imread(base_url + image_path+ '/' + img[0] + '.jpg')))\n",
    "print(shapes)"
   ]
  },
  {
   "cell_type": "code",
   "execution_count": 50,
   "id": "a5f03be3",
   "metadata": {},
   "outputs": [
    {
     "data": {
      "text/plain": [
       "array([[<AxesSubplot: title={'center': '0'}>,\n",
       "        <AxesSubplot: title={'center': '1'}>],\n",
       "       [<AxesSubplot: title={'center': '2'}>, <AxesSubplot: >]],\n",
       "      dtype=object)"
      ]
     },
     "execution_count": 50,
     "metadata": {},
     "output_type": "execute_result"
    },
    {
     "data": {
      "image/png": "[encoded data removed]",
      "text/plain": [
       "<Figure size 640x480 with 4 Axes>"
      ]
     },
     "metadata": {},
     "output_type": "display_data"
    }
   ],
   "source": [
    "df = pd.DataFrame(data = shapes)\n",
    "df.hist()"
   ]
  },
  {
   "cell_type": "code",
   "execution_count": 51,
   "id": "8f3a00ec",
   "metadata": {},
   "outputs": [
    {
     "name": "stdout",
     "output_type": "stream",
     "text": [
      "Num GPUs Available:  1\n",
      "[name: \"/device:CPU:0\"\n",
      "device_type: \"CPU\"\n",
      "memory_limit: 268435456\n",
      "locality {\n",
      "}\n",
      "incarnation: 4216233002734480160\n",
      "xla_global_id: -1\n",
      ", name: \"/device:GPU:0\"\n",
      "device_type: \"GPU\"\n",
      "memory_limit: 4152360960\n",
      "locality {\n",
      "  bus_id: 1\n",
      "  links {\n",
      "  }\n",
      "}\n",
      "incarnation: 9848272648654439011\n",
      "physical_device_desc: \"device: 0, name: NVIDIA GeForce RTX 2060, pci bus id: 0000:01:00.0, compute capability: 7.5\"\n",
      "xla_global_id: 416903419\n",
      "]\n",
      "<tensorflow.python.eager.context._EagerDeviceContext object at 0x000002190CB7C300>\n"
     ]
    }
   ],
   "source": [
    "import tensorflow as tf\n",
    "from tensorflow.python.client import device_lib\n",
    "\n",
    "print(\"Num GPUs Available: \", len(tf.config.list_physical_devices('GPU')))\n",
    "print(device_lib.list_local_devices())\n",
    "print(tf.device('/device:GPU:0'))"
   ]
  },
  {
   "cell_type": "code",
   "execution_count": 52,
   "id": "2e688e6a",
   "metadata": {},
   "outputs": [],
   "source": [
    "import math"
   ]
  },
  {
   "cell_type": "code",
   "execution_count": 58,
   "id": "8a30e0ea",
   "metadata": {},
   "outputs": [
    {
     "data": {
      "text/plain": [
       "int"
      ]
     },
     "execution_count": 58,
     "metadata": {},
     "output_type": "execute_result"
    }
   ],
   "source": [
    "train_data[:,1]"
   ]
  },
  {
   "cell_type": "code",
   "execution_count": 59,
   "id": "2a010d44",
   "metadata": {},
   "outputs": [
    {
     "name": "stdout",
     "output_type": "stream",
     "text": [
      "done\n"
     ]
    }
   ],
   "source": [
    "class Generator(tf.keras.utils.Sequence ):\n",
    "\n",
    "    def __init__(self, paths, labels, batch_size):\n",
    "        self.paths, self.labels, self.batch_size = paths, labels, batch_size\n",
    "\n",
    "\n",
    "    def __len__(self):\n",
    "        return math.ceil(len(self.paths) / self.batch_size)\n",
    "\n",
    "    def __getitem__(self, idx):\n",
    "        batch_x = self.paths[idx * self.batch_size : (idx + 1) * self.batch_size]\n",
    "        batch_y = self.labels[idx * self.batch_size : (idx + 1) * self.batch_size]\n",
    "        \n",
    "\n",
    "        batch_x = [cv2.resize(cv2.imread(base_url + image_path+ '/' + img[0] + '.jpg'), (256 , 256 )).reshape((256,256,3)) for x in batch_x]\n",
    "        batch_y = tf.keras.utils.to_categorical(batch_y, num_classes=2)\n",
    "\n",
    "\n",
    "\n",
    "        return np.array(batch_x), np.array(batch_y)\n",
    "\n",
    "\n",
    "\n",
    "\n",
    "train_gen = Generator(train_data[:,0], train_data[:,1], 4)\n",
    "test_gen = Generator(test_data[:,0], test_data[:,1], 4)\n",
    "valid_gen = Generator(valid_data[:,0], valid_data[:,1], 4)\n",
    "print('done')"
   ]
  },
  {
   "cell_type": "code",
   "execution_count": 60,
   "id": "21ad7d92",
   "metadata": {},
   "outputs": [],
   "source": [
    "from tensorflow import layers, models"
   ]
  },
  {
   "cell_type": "code",
   "execution_count": 61,
   "id": "819516fd",
   "metadata": {},
   "outputs": [
    {
     "name": "stdout",
     "output_type": "stream",
     "text": [
      "Downloading data from https://storage.googleapis.com/tensorflow/keras-applications/resnet/resnet50_weights_tf_dim_ordering_tf_kernels_notop.h5\n",
      "94765736/94765736 [==============================] - 6s 0us/step\n",
      "done\n"
     ]
    }
   ],
   "source": [
    "resnet_model = models.Sequential()\n",
    "\n",
    "pretrained_model= tf.keras.applications.ResNet50(include_top=False,\n",
    "                   input_shape=(256,256,3),\n",
    "                   pooling='avg',classes=2,\n",
    "                   weights='imagenet')\n",
    "# for layer in pretrained_model.layers:\n",
    "#         layer.trainable=False\n",
    "\n",
    "resnet_model.add(pretrained_model)\n",
    "resnet_model.add(layers.Flatten())\n",
    "resnet_model.add(layers.Dense(2048, activation='relu'))\n",
    "resnet_model.add(layers.Dense(2048, activation='relu'))\n",
    "resnet_model.add(layers.Dense(2, activation='softmax'))\n",
    "\n",
    "\n",
    "\n",
    "print('done')"
   ]
  },
  {
   "cell_type": "code",
   "execution_count": 62,
   "id": "6884e180",
   "metadata": {},
   "outputs": [
    {
     "name": "stdout",
     "output_type": "stream",
     "text": [
      "done\n"
     ]
    }
   ],
   "source": [
    "resnet_model.compile(optimizer='adam',\n",
    "              loss=tf.keras.losses.CategoricalCrossentropy(from_logits=True),\n",
    "              metrics=['accuracy']\n",
    "              )\n",
    "\n",
    "# tf.keras.utils.plot_model(resnet_model)\n",
    "print('done')"
   ]
  },
  {
   "cell_type": "code",
   "execution_count": 63,
   "id": "2a25051c",
   "metadata": {},
   "outputs": [],
   "source": [
    "model_checkpoint_callback = tf.keras.callbacks.ModelCheckpoint(\n",
    "        filepath=\"first/future.hdf5\",\n",
    "        #     save_weights_only=True,\n",
    "        monitor='val_accuracy',\n",
    "        mode='max',\n",
    "        save_best_only=True)"
   ]
  },
  {
   "cell_type": "code",
   "execution_count": 64,
   "id": "75a408b9",
   "metadata": {},
   "outputs": [
    {
     "name": "stdout",
     "output_type": "stream",
     "text": [
      "Epoch 1/10\n"
     ]
    },
    {
     "name": "stderr",
     "output_type": "stream",
     "text": [
      "c:\\Users\\ferik\\.virtualenvs\\backend-NUXCFHVQ\\lib\\site-packages\\keras\\backend.py:5531: UserWarning: \"`categorical_crossentropy` received `from_logits=True`, but the `output` argument was produced by a Softmax activation and thus does not represent logits. Was this intended?\n",
      "  output, from_logits = _get_logits(\n"
     ]
    },
    {
     "name": "stdout",
     "output_type": "stream",
     "text": [
      "204/204 [==============================] - 207s 951ms/step - loss: 0.7960 - accuracy: 0.4804 - val_loss: 0.6930 - val_accuracy: 0.5230\n",
      "Epoch 2/10\n",
      "204/204 [==============================] - 193s 944ms/step - loss: 0.6945 - accuracy: 0.5025 - val_loss: 0.6929 - val_accuracy: 0.5230\n",
      "Epoch 3/10\n",
      "204/204 [==============================] - 191s 934ms/step - loss: 0.6966 - accuracy: 0.5049 - val_loss: 0.6929 - val_accuracy: 0.5230\n",
      "Epoch 4/10\n",
      "204/204 [==============================] - 194s 950ms/step - loss: 0.6936 - accuracy: 0.4877 - val_loss: 0.6929 - val_accuracy: 0.5230\n",
      "Epoch 5/10\n",
      "204/204 [==============================] - 193s 946ms/step - loss: 0.6935 - accuracy: 0.4755 - val_loss: 0.6930 - val_accuracy: 0.5230\n",
      "Epoch 6/10\n",
      "204/204 [==============================] - 187s 915ms/step - loss: 0.6933 - accuracy: 0.4853 - val_loss: 0.6930 - val_accuracy: 0.5230\n",
      "Epoch 7/10\n",
      "204/204 [==============================] - 186s 914ms/step - loss: 0.6934 - accuracy: 0.4926 - val_loss: 0.6930 - val_accuracy: 0.5230\n",
      "Epoch 8/10\n",
      "204/204 [==============================] - 189s 927ms/step - loss: 0.6934 - accuracy: 0.4779 - val_loss: 0.6930 - val_accuracy: 0.5230\n",
      "Epoch 9/10\n",
      "204/204 [==============================] - 189s 927ms/step - loss: 0.6933 - accuracy: 0.4926 - val_loss: 0.6932 - val_accuracy: 0.4770\n",
      "Epoch 10/10\n",
      "204/204 [==============================] - 190s 932ms/step - loss: 0.6933 - accuracy: 0.4877 - val_loss: 0.6931 - val_accuracy: 0.5230\n",
      "done\n"
     ]
    }
   ],
   "source": [
    "history = resnet_model.fit(train_gen, validation_data=test_gen, epochs=10, callbacks=[model_checkpoint_callback])\n",
    "print('done')"
   ]
  }
 ],
 "metadata": {
  "kernelspec": {
   "display_name": "melanoma",
   "language": "python",
   "name": "melanoma"
  },
  "language_info": {
   "codemirror_mode": {
    "name": "ipython",
    "version": 3
   },
   "file_extension": ".py",
   "mimetype": "text/x-python",
   "name": "python",
   "nbconvert_exporter": "python",
   "pygments_lexer": "ipython3",
   "version": "3.10.6"
  }
 },
 "nbformat": 4,
 "nbformat_minor": 5
}

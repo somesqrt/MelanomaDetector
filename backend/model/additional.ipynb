{
 "cells": [
  {
   "cell_type": "code",
   "execution_count": 4,
   "metadata": {},
   "outputs": [
    {
     "data": {
      "text/plain": [
       "10015"
      ]
     },
     "execution_count": 4,
     "metadata": {},
     "output_type": "execute_result"
    }
   ],
   "source": [
    "base_url = \"D:/downloads\"\n",
    "image_path1 = \"/HAM10000_images_part_1\"\n",
    "import os\n",
    "\n",
    "import pandas as pd\n",
    "\n",
    "len(os.listdir(base_url + image_path1))"
   ]
  },
  {
   "cell_type": "code",
   "execution_count": 10,
   "metadata": {},
   "outputs": [
    {
     "name": "stdout",
     "output_type": "stream",
     "text": [
      "[['ISIC_0027419' 'bkl']\n",
      " ['ISIC_0025030' 'bkl']\n",
      " ['ISIC_0026769' 'bkl']\n",
      " ...\n",
      " ['ISIC_0033536' 'akiec']\n",
      " ['ISIC_0032854' 'akiec']\n",
      " ['ISIC_0032258' 'mel']]\n"
     ]
    }
   ],
   "source": [
    "import csv\n",
    "import numpy as np\n",
    "with open(base_url + '/HAM10000_metadata.csv') as file_name:\n",
    "    file_read = csv.reader(file_name)\n",
    "    array = list(file_read)\n",
    "    np_arr = np.array(array)\n",
    "print(np_arr[1:,[1,2]])"
   ]
  },
  {
   "cell_type": "code",
   "execution_count": 13,
   "metadata": {},
   "outputs": [],
   "source": [
    "train = pd.read_csv(base_url + '/HAM10000_metadata.csv')\n",
    "data = train"
   ]
  },
  {
   "cell_type": "code",
   "execution_count": 54,
   "metadata": {},
   "outputs": [
    {
     "name": "stdout",
     "output_type": "stream",
     "text": [
      "[['ISIC_0030623' 'mel']\n",
      " ['ISIC_0027190' 1]\n",
      " ['ISIC_0031023' 1]\n",
      " ...\n",
      " ['ISIC_0032936' 1]\n",
      " ['ISIC_0033232' 1]\n",
      " ['ISIC_0032258' 1]]\n"
     ]
    }
   ],
   "source": [
    "malign_data = data[data['dx']=='mel'].to_numpy()[1:,[1,2]]\n",
    "benign_data = data[data['dx']=='nv'].to_numpy()[1:,[1,2]]\n",
    "#print(malign_data)\n",
    "#print(benign_data)\n",
    "#print(malign_data[1:,1])\n",
    "for cislo in range(len(malign_data[1:,1])):\n",
    "    if malign_data[1:,1][cislo] == 'mel':\n",
    "        malign_data[1:,1][cislo] = 1\n",
    "if malign_data[1:,1][0] == 'mel':\n",
    "    malign_data[1:,1][0] = 1\n",
    "#malign_data[1:,1][0] = 1\n",
    "print(malign_data)\n",
    "\n",
    "#print(malign_data[1:,1][cislo])\n",
    "#idx_x = np.random.choice(len(benign_data),int(len(benign_data)),replace=False)\n",
    "#benign_data = np.array(benign_data[idx_x])\n",
    "\n",
    "#benign_data = benign_data[:len(malign_data)+1]\n",
    "#benign_data = benign_data[1:,[1,2]]\n",
    "#print(benign_data)\n",
    "#print(malign_data)\n",
    "#print(len(benign_data))\n",
    "#print(len(malign_data))"
   ]
  }
 ],
 "metadata": {
  "kernelspec": {
   "display_name": "Python 3.10.4 64-bit",
   "language": "python",
   "name": "python3"
  },
  "language_info": {
   "codemirror_mode": {
    "name": "ipython",
    "version": 3
   },
   "file_extension": ".py",
   "mimetype": "text/x-python",
   "name": "python",
   "nbconvert_exporter": "python",
   "pygments_lexer": "ipython3",
   "version": "3.10.4"
  },
  "orig_nbformat": 4,
  "vscode": {
   "interpreter": {
    "hash": "369f2c481f4da34e4445cda3fffd2e751bd1c4d706f27375911949ba6bb62e1c"
   }
  }
 },
 "nbformat": 4,
 "nbformat_minor": 2
}
